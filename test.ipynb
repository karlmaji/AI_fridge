{
 "cells": [
  {
   "cell_type": "code",
   "execution_count": 3,
   "metadata": {},
   "outputs": [
    {
     "name": "stdout",
     "output_type": "stream",
     "text": [
      "苹果 一公斤\n",
      "3 天\n"
     ]
    }
   ],
   "source": [
    "import cn2an\n",
    "result = '苹果，，，一公斤存放三天。'\n",
    "result = result.replace('，','')\n",
    "result = result.replace('。','')\n",
    "position=result.find(\"存放\")\n",
    "\n",
    "name_count = result[:position]\n",
    "\n",
    "cunfang_time = result[position+2:]\n",
    "\n",
    "digital = ['一','二','三','四','五','六','七','八','九','十']\n",
    "\n",
    "def find_char_index_from_list(str_:str,char_list:list):\n",
    "    for char_ in char_list:\n",
    "        p = str_.find(char_)\n",
    "        if p!=-1:\n",
    "            return p\n",
    "    return p\n",
    "\n",
    "p = find_char_index_from_list(name_count,digital)\n",
    "\n",
    "name  = name_count[:p]\n",
    "count = name_count[p:]\n",
    "print(name,count)\n",
    "\n",
    "\n",
    "def get_time(str_:str):\n",
    "    time_list = ['天','小时','周','月']\n",
    "    p = find_char_index_from_list(str_,time_list)\n",
    "    number = str_[:p]\n",
    "    danwei = str_[p:]\n",
    "    number = cn2an.cn2an(number,'strict')\n",
    "    \n",
    "\n",
    "get_time(cunfang_time)\n",
    "\n",
    "\n",
    "\n"
   ]
  },
  {
   "cell_type": "code",
   "execution_count": 4,
   "metadata": {},
   "outputs": [],
   "source": [
    "def result_match(result:str):\n",
    "    output = {}\n",
    "    result = result.replace('，','')\n",
    "    result = result.replace('。','')\n",
    "    position = result.find(\"存放\")\n",
    "    name_count = result[:position]\n",
    "    cunfang_time = result[position+2:]\n",
    "\n",
    "    digital = ['一','二','三','四','五','六','七','八','九','十']\n",
    "\n",
    "    p = find_char_index_from_list(name_count,digital)\n",
    "    name  = name_count[:p]\n",
    "    count = name_count[p:]\n",
    "\n",
    "    output['name'] =name\n",
    "    output['count'] = count\n",
    "\n",
    "    time_list = ['天','小时','周','月']\n",
    "    p = find_char_index_from_list(cunfang_time,time_list)\n",
    "    number = cunfang_time[:p]\n",
    "    danwei = cunfang_time[p:]\n",
    "    number = cn2an.cn2an(number,'strict')\n",
    "\n",
    "    output['number'] = number\n",
    "    output['danwei'] = danwei\n",
    "\n",
    "    \n",
    "\n"
   ]
  }
 ],
 "metadata": {
  "kernelspec": {
   "display_name": "Python 3.7.11 ('non')",
   "language": "python",
   "name": "python3"
  },
  "language_info": {
   "codemirror_mode": {
    "name": "ipython",
    "version": 3
   },
   "file_extension": ".py",
   "mimetype": "text/x-python",
   "name": "python",
   "nbconvert_exporter": "python",
   "pygments_lexer": "ipython3",
   "version": "3.7.11"
  },
  "orig_nbformat": 4,
  "vscode": {
   "interpreter": {
    "hash": "067c1bce92f9c834deaea1a257a860c647138283264017f402e2d663ef987820"
   }
  }
 },
 "nbformat": 4,
 "nbformat_minor": 2
}
